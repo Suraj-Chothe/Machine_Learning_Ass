{
 "cells": [
  {
   "cell_type": "code",
   "execution_count": 1,
   "id": "401e79df",
   "metadata": {},
   "outputs": [],
   "source": [
    "#KNN\n"
   ]
  },
  {
   "cell_type": "code",
   "execution_count": 2,
   "id": "f079179b",
   "metadata": {},
   "outputs": [
    {
     "name": "stdout",
     "output_type": "stream",
     "text": [
      "[[2 4]\n",
      " [4 6]\n",
      " [4 4]\n",
      " [4 2]\n",
      " [6 4]\n",
      " [6 2]]\n",
      "['negative' 'negative' 'postive' 'negative' 'negative' 'positive']\n",
      "The predicition of classifier is : ['negative']\n",
      "The predicition of classifier is : ['negative']\n"
     ]
    }
   ],
   "source": [
    "#Importing Libraries\n",
    "\n",
    "import numpy as np\n",
    "import pandas as pd\n",
    "\n",
    "# To split dataset into its attributes and labels.\n",
    "\n",
    "dataset=pd.read_csv(\"knndata.csv\")\n",
    "X=dataset.iloc[:,:-1].values\n",
    "print(X)\n",
    "Y=dataset.iloc[:,2].values\n",
    "print(Y)\n",
    "\n",
    "# Training of KNN Classification Model using trained data\n",
    "\n",
    "from sklearn.neighbors import KNeighborsClassifier\n",
    "classifier = KNeighborsClassifier(n_neighbors=3)\n",
    "classifier.fit(X,Y)\n",
    "\n",
    "# Testing  KNN Classification Model using unseen test data\n",
    "\n",
    "X_test=np.array([6,6])\n",
    "y_pred = classifier.predict([X_test])\n",
    "print ('The predicition of classifier is :', y_pred)\n",
    "classifier = KNeighborsClassifier(n_neighbors=3,weights='distance')\n",
    "classifier.fit(X,Y)\n",
    "# predict the class for points(6,6)\n",
    "X_test=np.array([6,6])\n",
    "y_pred = classifier.predict([X_test])\n",
    "print ('The predicition of classifier is :', y_pred)\n"
   ]
  },
  {
   "cell_type": "code",
   "execution_count": null,
   "id": "7e7f9373",
   "metadata": {},
   "outputs": [],
   "source": []
  }
 ],
 "metadata": {
  "kernelspec": {
   "display_name": "Python 3 (ipykernel)",
   "language": "python",
   "name": "python3"
  },
  "language_info": {
   "codemirror_mode": {
    "name": "ipython",
    "version": 3
   },
   "file_extension": ".py",
   "mimetype": "text/x-python",
   "name": "python",
   "nbconvert_exporter": "python",
   "pygments_lexer": "ipython3",
   "version": "3.10.9"
  }
 },
 "nbformat": 4,
 "nbformat_minor": 5
}
